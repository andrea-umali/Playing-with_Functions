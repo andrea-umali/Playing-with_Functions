{
 "cells": [
  {
   "cell_type": "markdown",
   "metadata": {},
   "source": [
    "## Playing With Functions"
   ]
  },
  {
   "cell_type": "markdown",
   "metadata": {},
   "source": [
    "These exercises are designed to strengthen your grasp on basic programming concepts. Read what is required of you carefully. For example, instructions to **return** values are not the same as those of **printing**.\n",
    "\n",
    "Make sure that cells are in **script mode** (not **interactive mode**).\n"
   ]
  },
  {
   "cell_type": "markdown",
   "metadata": {},
   "source": [
    "# 1\n",
    "### 1 point\n",
    "\n",
    "Write a function that takes the circumference of a circle as a parameter and **returns** the area of that circle.\n",
    "\n",
    "Note: Assume the value of pi is 3.1416"
   ]
  },
  {
   "cell_type": "code",
   "execution_count": 1,
   "metadata": {},
   "outputs": [],
   "source": [
    "def function (circumference, pi):\n",
    "    pi = 3.1416\n",
    "    circumference = (2 * pi * radius)\n",
    "    area = ((circumference ** 2) / 4 * pi)\n",
    "    return area"
   ]
  },
  {
   "cell_type": "markdown",
   "metadata": {},
   "source": [
    "# 2\n",
    "### 2 points\n",
    "\n",
    "Write a function that takes a 5-character string as a parameter and **returns** the string in reverse order.\n",
    "\n",
    "e.g. reverseString(\"Hello\") -> \"olleH\""
   ]
  },
  {
   "cell_type": "code",
   "execution_count": 2,
   "metadata": {},
   "outputs": [
    {
     "name": "stdout",
     "output_type": "stream",
     "text": [
      "reverseString(\"Hello\"): olleH\n"
     ]
    }
   ],
   "source": [
    "def reverseString(x):\n",
    "    return x[::-1]\n",
    "\n",
    "txt = reverseString(\"Hello\")\n",
    "\n",
    "print('reverseString(\"Hello\"):', txt)"
   ]
  },
  {
   "cell_type": "markdown",
   "metadata": {},
   "source": [
    "# 3\n",
    "### 2 points\n",
    "\n",
    "Write a function that takes a positive integer as input and **returns** the sum of all positive integers smaller than and including the number itself.\n",
    "\n",
    "e.g. backAddition(5) -> 1 + 2 + 3 + 4 + 5 -> 15"
   ]
  },
  {
   "cell_type": "code",
   "execution_count": 3,
   "metadata": {},
   "outputs": [
    {
     "name": "stdout",
     "output_type": "stream",
     "text": [
      "Enter the Number: 5\n",
      "backAddition(n): 15\n"
     ]
    }
   ],
   "source": [
    "def backAddition(n):\n",
    "    backAddition = n * (n + 1) // 2\n",
    "    return result\n",
    "\n",
    "n = int(input(\"Enter the Number: \"))\n",
    "backAddition = n * (n + 1) // 2\n",
    "\n",
    "print(\"backAddition(n):\", backAddition)"
   ]
  },
  {
   "cell_type": "markdown",
   "metadata": {},
   "source": [
    "# 4\n",
    "### 5 points (all or nothing)\n",
    "\n",
    "The sum of the squares of the first ten natural numbers is,\n",
    "12 + 22 + ... + 102 = 385\n",
    "\n",
    "The square of the sum of the first ten natural numbers is,\n",
    "(1 + 2 + ... + 10)2 = 552 = 3025\n",
    "\n",
    "Hence the difference between the sum of the squares of the first ten natural numbers and the square of the sum is 3025 − 385 = 2640.\n",
    "\n",
    "Find the difference between the sum of the squares of the first one hundred natural numbers and the square of the sum.\n",
    "\n",
    "Show code that generates the answer."
   ]
  },
  {
   "cell_type": "code",
   "execution_count": 4,
   "metadata": {},
   "outputs": [
    {
     "name": "stdout",
     "output_type": "stream",
     "text": [
      "Result = 25164150\n"
     ]
    }
   ],
   "source": [
    "# sum of squares of the first one hundred natural numbers\n",
    "total_sumsq = 0  \n",
    "for n in range(1,101):  \n",
    "    total_sumsq += n ** 2\n",
    "    \n",
    "# square of sum of the first one hundred natural numbers\n",
    "total = 0\n",
    "for n in range (1,101):\n",
    "    total_sqsum = (n * (n + 1) // 2) ** 2\n",
    "    total += total_sqsum\n",
    "\n",
    "# difference of both equations\n",
    "difference = (total_sqsum - total_sumsq)\n",
    "print(\"Result =\", difference)"
   ]
  },
  {
   "cell_type": "markdown",
   "metadata": {},
   "source": [
    "# 5\n",
    "### 5 points \n",
    "\n",
    "Write a function that allows a self-service Point of Sale system to give you the exact change when you pay in cash.\n",
    "\n",
    "The function should accept the number of cents entered by the caller of the function. It then should **display** the denominations of the coins that should be given to the buyer. The change should use as few coins as possible. Assume that the Point of Sale system is loaded with 1 cent, 5 cents, 10 cents, 25 cents and 1 peso coins.\n",
    "\n",
    "Write main program code that accepts the number of cents manually through user input and calls the function written above.\n",
    "\n",
    "**Input:** The program accepts one positive integer, ***cents***, corresponding to the total change to be given by the Point of Sale system.\n",
    "\n",
    "**Output:** The number of 1 peso, 25 cents, 10 cents, 5 cents and 1 cent coins respectively. There should be one output per line.\n",
    "\n",
    "**Sample Input 1:**  \n",
    "105\n",
    "\n",
    "**Sample Output 1**  \n",
    "1  \n",
    "0  \n",
    "0  \n",
    "1  \n",
    "0  \n",
    "\n",
    "**Sample Input 2:**  \n",
    "69  \n",
    "\n",
    "**Sample Output 2:**  \n",
    "0  \n",
    "2  \n",
    "1  \n",
    "1  \n",
    "4  \n",
    "\n",
    "\n"
   ]
  },
  {
   "cell_type": "code",
   "execution_count": 17,
   "metadata": {},
   "outputs": [
    {
     "name": "stdout",
     "output_type": "stream",
     "text": [
      "Enter amount: 69\n",
      "0\n",
      "2\n",
      "1\n",
      "1\n",
      "4\n",
      "4\n"
     ]
    }
   ],
   "source": [
    "c = int(input(\"Enter amount: \"))\n",
    "\n",
    "def change(c):\n",
    "    one_peso = c // 100\n",
    "    ogc25 = c - (one_peso * 100)\n",
    "    c25 = ogc25 // 25\n",
    "    ogc10 = ogc25 - (c25 * 25)\n",
    "    c10 = ogc10 // 10\n",
    "    ogc5 = ogc10 - (c10 * 10)\n",
    "    c5 = ogc5 // 5\n",
    "    ogc1 = ogc5 - (c5 * 5)\n",
    "    c1 = ogc1 // 1\n",
    "\n",
    "    print (one_peso)\n",
    "    print (c25)\n",
    "    print (c10)\n",
    "    print (c5)\n",
    "    print (c1)\n",
    "    return c1\n",
    "\n",
    "print (change(c))"
   ]
  }
 ],
 "metadata": {
  "kernelspec": {
   "display_name": "Python 3",
   "language": "python",
   "name": "python3"
  },
  "language_info": {
   "codemirror_mode": {
    "name": "ipython",
    "version": 3
   },
   "file_extension": ".py",
   "mimetype": "text/x-python",
   "name": "python",
   "nbconvert_exporter": "python",
   "pygments_lexer": "ipython3",
   "version": "3.8.3"
  }
 },
 "nbformat": 4,
 "nbformat_minor": 2
}
